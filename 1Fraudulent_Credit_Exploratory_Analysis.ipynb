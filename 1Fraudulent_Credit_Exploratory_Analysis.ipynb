{
 "cells": [
  {
   "cell_type": "markdown",
   "metadata": {},
   "source": [
    "# Importing the libraries"
   ]
  },
  {
   "cell_type": "code",
   "execution_count": 1,
   "metadata": {},
   "outputs": [],
   "source": [
    "import pandas as pd\n",
    "import matplotlib.pyplot as plt\n",
    "import seaborn as sb\n",
    "from dfply import mask"
   ]
  },
  {
   "cell_type": "markdown",
   "metadata": {},
   "source": [
    "# Importing the dataset"
   ]
  },
  {
   "cell_type": "code",
   "execution_count": 2,
   "metadata": {},
   "outputs": [],
   "source": [
    "credit = pd.read_csv('default of credit card clients.csv', header = 1)"
   ]
  },
  {
   "cell_type": "code",
   "execution_count": 3,
   "metadata": {},
   "outputs": [
    {
     "name": "stdout",
     "output_type": "stream",
     "text": [
      "Index(['ID', 'LIMIT_BAL', 'SEX', 'EDUCATION', 'MARRIAGE', 'AGE', 'PAY_0',\n",
      "       'PAY_2', 'PAY_3', 'PAY_4', 'PAY_5', 'PAY_6', 'BILL_AMT1', 'BILL_AMT2',\n",
      "       'BILL_AMT3', 'BILL_AMT4', 'BILL_AMT5', 'BILL_AMT6', 'PAY_AMT1',\n",
      "       'PAY_AMT2', 'PAY_AMT3', 'PAY_AMT4', 'PAY_AMT5', 'PAY_AMT6',\n",
      "       'default payment next month'],\n",
      "      dtype='object')\n"
     ]
    }
   ],
   "source": [
    "#Let us look at the names of the variables in the dataset\n",
    "header = credit.dtypes.index\n",
    "print(header)"
   ]
  },
  {
   "cell_type": "markdown",
   "metadata": {},
   "source": [
    "# Renaming the variables "
   ]
  },
  {
   "cell_type": "code",
   "execution_count": 4,
   "metadata": {},
   "outputs": [],
   "source": [
    "#Let us rename some of the variables to make them easier to understand \n",
    "credit.rename(columns={'PAY_0':'PayStat_Sept','PAY_2':'PayStat_Aug','PAY_3':'PayStat_July',\n",
    "'PAY_4':'PayStat_June', 'PAY_5':'PayStat_May','PAY_6':'PayStat_April','BILL_AMT1':'CurBill_Sept',\n",
    "'BILL_AMT2':'CurBill_Aug','BILL_AMT3':'CurBill_July','BILL_AMT4':'CurBill_June',\n",
    "'BILL_AMT5':'CurBill_May','BILL_AMT6':'CurBill_April','PAY_AMT1':'Repaid_Sept',\n",
    "'PAY_AMT2':'Repaid_Aug','PAY_AMT3':'Repaid_July','PAY_AMT4':'Repaid_June',\n",
    "'PAY_AMT5':'Repaid_May','PAY_AMT6':'Repaid_April', 'default payment next month':'DEFAULT'}, inplace=True)"
   ]
  },
  {
   "cell_type": "markdown",
   "metadata": {},
   "source": [
    "# Checking for missing values "
   ]
  },
  {
   "cell_type": "code",
   "execution_count": 5,
   "metadata": {},
   "outputs": [
    {
     "name": "stdout",
     "output_type": "stream",
     "text": [
      "ID               0\n",
      "LIMIT_BAL        0\n",
      "SEX              0\n",
      "EDUCATION        0\n",
      "MARRIAGE         0\n",
      "AGE              0\n",
      "PayStat_Sept     0\n",
      "PayStat_Aug      0\n",
      "PayStat_July     0\n",
      "PayStat_June     0\n",
      "PayStat_May      0\n",
      "PayStat_April    0\n",
      "CurBill_Sept     0\n",
      "CurBill_Aug      0\n",
      "CurBill_July     0\n",
      "CurBill_June     0\n",
      "CurBill_May      0\n",
      "CurBill_April    0\n",
      "Repaid_Sept      0\n",
      "Repaid_Aug       0\n",
      "Repaid_July      0\n",
      "Repaid_June      0\n",
      "Repaid_May       0\n",
      "Repaid_April     0\n",
      "DEFAULT          0\n",
      "dtype: int64\n"
     ]
    }
   ],
   "source": [
    "#Are there any missing values?\n",
    "print(credit.isnull().sum())"
   ]
  },
  {
   "cell_type": "markdown",
   "metadata": {},
   "source": [
    "There are no missing values in the dataset"
   ]
  },
  {
   "cell_type": "markdown",
   "metadata": {},
   "source": [
    "# Recoding the categorical variables "
   ]
  },
  {
   "cell_type": "code",
   "execution_count": 6,
   "metadata": {},
   "outputs": [],
   "source": [
    "#Blocking the 'SettingWithCopy' warning from Pandas  \n",
    "pd.options.mode.chained_assignment = None\n",
    "\n",
    "#Change the values of the categorical values\n",
    "#Sex\n",
    "credit.SEX[credit.SEX == 1] = 'male'\n",
    "credit.SEX[credit.SEX == 2] = 'female'\n",
    "\n",
    "#Education\n",
    "credit.EDUCATION[credit.EDUCATION == 0] = 'unknown'\n",
    "credit.EDUCATION[credit.EDUCATION == 1] = 'graduate school'\n",
    "credit.EDUCATION[credit.EDUCATION == 2] = 'university'\n",
    "credit.EDUCATION[credit.EDUCATION == 3] = 'high school'\n",
    "credit.EDUCATION[credit.EDUCATION == 4] = 'other 1'\n",
    "credit.EDUCATION[credit.EDUCATION == 5] = 'other 2' \n",
    "credit.EDUCATION[credit.EDUCATION == 6] = 'other 3'\n",
    "\n",
    "#Marriage\n",
    "credit.MARRIAGE[credit.MARRIAGE == 0] = 'unknown'\n",
    "credit.MARRIAGE[credit.MARRIAGE == 1] = 'single'\n",
    "credit.MARRIAGE[credit.MARRIAGE == 2] = 'married'\n",
    "credit.MARRIAGE[credit.MARRIAGE == 3] = 'divorced'\n",
    "\n",
    "#Default\n",
    "credit.DEFAULT[credit.DEFAULT == 0] = 'paid'\n",
    "credit.DEFAULT[credit.DEFAULT == 1] = 'defaulted'"
   ]
  },
  {
   "cell_type": "code",
   "execution_count": 7,
   "metadata": {},
   "outputs": [],
   "source": [
    "#Turn SEX, EDUCATION, MARRIAGE, 'default payment next month' into factors\n",
    "credit['SEX'] = credit['SEX'].astype('category')\n",
    "credit['EDUCATION'] = credit['EDUCATION'].astype('category')\n",
    "credit['MARRIAGE'] = credit['MARRIAGE'].astype('category')\n",
    "credit['DEFAULT'] = credit['DEFAULT'].astype('category')"
   ]
  },
  {
   "cell_type": "markdown",
   "metadata": {},
   "source": [
    "# Observations from the data"
   ]
  },
  {
   "cell_type": "code",
   "execution_count": 8,
   "metadata": {
    "scrolled": true
   },
   "outputs": [
    {
     "data": {
      "image/png": "[encoded data removed]",
      "text/plain": [
       "<Figure size 432x288 with 1 Axes>"
      ]
     },
     "metadata": {
      "needs_background": "light"
     },
     "output_type": "display_data"
    }
   ],
   "source": [
    "#Graphing the distribution of age\n",
    "plt.hist(credit['AGE'], bins = 20)\n",
    "plt.title('Frequency distribution age')\n",
    "plt.xlabel('Age')\n",
    "plt.ylabel('Frequency')\n",
    "plt.show()"
   ]
  },
  {
   "cell_type": "markdown",
   "metadata": {},
   "source": [
    "Most of the customers are between the age of 25 until 45 "
   ]
  },
  {
   "cell_type": "code",
   "execution_count": 9,
   "metadata": {},
   "outputs": [
    {
     "data": {
      "text/plain": [
       "EDUCATION\n",
       "graduate school    10585\n",
       "high school         4917\n",
       "other 1              123\n",
       "other 2              280\n",
       "other 3               51\n",
       "university         14030\n",
       "unknown               14\n",
       "Name: EDUCATION, dtype: int64"
      ]
     },
     "execution_count": 9,
     "metadata": {},
     "output_type": "execute_result"
    }
   ],
   "source": [
    "#Observing the distribution of education status\n",
    "credit.groupby('EDUCATION')['EDUCATION'].count()"
   ]
  },
  {
   "cell_type": "markdown",
   "metadata": {},
   "source": [
    "The vast majority of the customers has been to univeristy or graduate school "
   ]
  },
  {
   "cell_type": "code",
   "execution_count": 10,
   "metadata": {},
   "outputs": [
    {
     "data": {
      "text/plain": [
       "SEX\n",
       "female    18112\n",
       "male      11888\n",
       "Name: SEX, dtype: int64"
      ]
     },
     "execution_count": 10,
     "metadata": {},
     "output_type": "execute_result"
    }
   ],
   "source": [
    "#Observing the distribution of gender\n",
    "credit.groupby('SEX')['SEX'].count()"
   ]
  },
  {
   "cell_type": "markdown",
   "metadata": {},
   "source": [
    "Most of the customers are females "
   ]
  },
  {
   "cell_type": "code",
   "execution_count": 11,
   "metadata": {},
   "outputs": [
    {
     "data": {
      "text/plain": [
       "MARRIAGE\n",
       "divorced      323\n",
       "married     15964\n",
       "single      13659\n",
       "unknown        54\n",
       "Name: MARRIAGE, dtype: int64"
      ]
     },
     "execution_count": 11,
     "metadata": {},
     "output_type": "execute_result"
    }
   ],
   "source": [
    "#Observing the distribution of marriage status\n",
    "credit.groupby('MARRIAGE')['MARRIAGE'].count()"
   ]
  },
  {
   "cell_type": "markdown",
   "metadata": {},
   "source": [
    "Most of the customers are either married or single"
   ]
  },
  {
   "cell_type": "code",
   "execution_count": 12,
   "metadata": {},
   "outputs": [
    {
     "data": {
      "text/plain": [
       "DEFAULT\n",
       "defaulted     6636\n",
       "paid         23364\n",
       "Name: DEFAULT, dtype: int64"
      ]
     },
     "execution_count": 12,
     "metadata": {},
     "output_type": "execute_result"
    }
   ],
   "source": [
    "#Observing the distribution of default\n",
    "credit.groupby('DEFAULT')['DEFAULT'].count()"
   ]
  },
  {
   "cell_type": "code",
   "execution_count": 13,
   "metadata": {
    "scrolled": false
   },
   "outputs": [
    {
     "data": {
      "image/png": "[encoded data removed]",
      "text/plain": [
       "<Figure size 432x288 with 1 Axes>"
      ]
     },
     "metadata": {
      "needs_background": "light"
     },
     "output_type": "display_data"
    }
   ],
   "source": [
    "#Distribution amount of credit given to consumers \n",
    "plt.hist(credit['LIMIT_BAL'], bins = 15)\n",
    "plt.title('Frequency distribution limit balance')\n",
    "plt.xlabel('Limit balance')\n",
    "plt.ylabel('Frequency')\n",
    "plt.show()"
   ]
  },
  {
   "cell_type": "code",
   "execution_count": 14,
   "metadata": {},
   "outputs": [
    {
     "data": {
      "image/png": "[encoded data removed]",
      "text/plain": [
       "<Figure size 621.375x360 with 1 Axes>"
      ]
     },
     "metadata": {
      "needs_background": "light"
     },
     "output_type": "display_data"
    }
   ],
   "source": [
    "#Looking at relation between defaulting and marital status\n",
    "marriageplot = sb.catplot('DEFAULT', data = credit, hue = 'MARRIAGE', kind='count', aspect=1.5)\n",
    "marriageplot.set_xlabels('DEFAULT')\n",
    "plt.show()"
   ]
  },
  {
   "cell_type": "code",
   "execution_count": 15,
   "metadata": {},
   "outputs": [
    {
     "data": {
      "image/png": "[encoded data removed]",
      "text/plain": [
       "<Figure size 656.625x360 with 1 Axes>"
      ]
     },
     "metadata": {
      "needs_background": "light"
     },
     "output_type": "display_data"
    }
   ],
   "source": [
    "#Relation between education level and defaulting \n",
    "eduplot = sb.catplot('DEFAULT', data = credit, hue = 'EDUCATION', kind='count', aspect=1.5)\n",
    "eduplot.set_xlabels('DEFAULT')\n",
    "plt.show()"
   ]
  },
  {
   "cell_type": "code",
   "execution_count": 16,
   "metadata": {},
   "outputs": [
    {
     "data": {
      "text/html": [
       "<div>\n",
       "<style scoped>\n",
       "    .dataframe tbody tr th:only-of-type {\n",
       "        vertical-align: middle;\n",
       "    }\n",
       "\n",
       "    .dataframe tbody tr th {\n",
       "        vertical-align: top;\n",
       "    }\n",
       "\n",
       "    .dataframe thead th {\n",
       "        text-align: right;\n",
       "    }\n",
       "</style>\n",
       "<table border=\"1\" class=\"dataframe\">\n",
       "  <thead>\n",
       "    <tr style=\"text-align: right;\">\n",
       "      <th></th>\n",
       "      <th>MARRIAGE</th>\n",
       "      <th>divorced</th>\n",
       "      <th>married</th>\n",
       "      <th>single</th>\n",
       "      <th>unknown</th>\n",
       "    </tr>\n",
       "    <tr>\n",
       "      <th>DEFAULT</th>\n",
       "      <th>SEX</th>\n",
       "      <th></th>\n",
       "      <th></th>\n",
       "      <th></th>\n",
       "      <th></th>\n",
       "    </tr>\n",
       "  </thead>\n",
       "  <tbody>\n",
       "    <tr>\n",
       "      <th rowspan=\"2\" valign=\"top\">defaulted</th>\n",
       "      <th>female</th>\n",
       "      <td>44</td>\n",
       "      <td>1856</td>\n",
       "      <td>1860</td>\n",
       "      <td>3</td>\n",
       "    </tr>\n",
       "    <tr>\n",
       "      <th>male</th>\n",
       "      <td>40</td>\n",
       "      <td>1485</td>\n",
       "      <td>1346</td>\n",
       "      <td>2</td>\n",
       "    </tr>\n",
       "    <tr>\n",
       "      <th rowspan=\"2\" valign=\"top\">paid</th>\n",
       "      <th>female</th>\n",
       "      <td>148</td>\n",
       "      <td>7555</td>\n",
       "      <td>6609</td>\n",
       "      <td>37</td>\n",
       "    </tr>\n",
       "    <tr>\n",
       "      <th>male</th>\n",
       "      <td>91</td>\n",
       "      <td>5068</td>\n",
       "      <td>3844</td>\n",
       "      <td>12</td>\n",
       "    </tr>\n",
       "  </tbody>\n",
       "</table>\n",
       "</div>"
      ],
      "text/plain": [
       "MARRIAGE          divorced  married  single  unknown\n",
       "DEFAULT   SEX                                       \n",
       "defaulted female        44     1856    1860        3\n",
       "          male          40     1485    1346        2\n",
       "paid      female       148     7555    6609       37\n",
       "          male          91     5068    3844       12"
      ]
     },
     "execution_count": 16,
     "metadata": {},
     "output_type": "execute_result"
    }
   ],
   "source": [
    "# Customers with both default and non-default payments grouped by gender and marital status\n",
    "table = pd.crosstab(index=[credit.DEFAULT ,credit.SEX], columns=[credit.MARRIAGE])\n",
    "table"
   ]
  },
  {
   "cell_type": "code",
   "execution_count": 17,
   "metadata": {},
   "outputs": [
    {
     "name": "stdout",
     "output_type": "stream",
     "text": [
      "0          1284.000000\n",
      "1          2846.166667\n",
      "2         16942.166667\n",
      "3         38555.666667\n",
      "4         18223.166667\n",
      "5         39685.666667\n",
      "6        454099.166667\n",
      "7          2247.666667\n",
      "8         10868.666667\n",
      "9          4486.500000\n",
      "10         5744.500000\n",
      "11        14728.166667\n",
      "12         6834.500000\n",
      "13        56447.500000\n",
      "14        62265.166667\n",
      "15        32736.000000\n",
      "16        17693.500000\n",
      "17       161002.333333\n",
      "18            0.000000\n",
      "19            0.000000\n",
      "20        20647.166667\n",
      "21          316.000000\n",
      "22        44245.833333\n",
      "23         4494.166667\n",
      "24         5310.666667\n",
      "25        35715.833333\n",
      "26          -65.666667\n",
      "27        18711.333333\n",
      "28         6701.333333\n",
      "29        16180.333333\n",
      "             ...      \n",
      "29970     37929.500000\n",
      "29971     69174.500000\n",
      "29972     40951.833333\n",
      "29973         0.000000\n",
      "29974      5050.500000\n",
      "29975     10798.500000\n",
      "29976     51001.500000\n",
      "29977    140526.500000\n",
      "29978    226107.833333\n",
      "29979         0.000000\n",
      "29980     38757.166667\n",
      "29981     29009.833333\n",
      "29982     10810.500000\n",
      "29983      3540.333333\n",
      "29984      1899.333333\n",
      "29985         0.000000\n",
      "29986       370.000000\n",
      "29987     58670.500000\n",
      "29988    229345.000000\n",
      "29989      2201.833333\n",
      "29990    108105.833333\n",
      "29991      2500.000000\n",
      "29992      3200.333333\n",
      "29993     50428.000000\n",
      "29994     78488.833333\n",
      "29995    120891.500000\n",
      "29996      3530.333333\n",
      "29997     11749.333333\n",
      "29998     44435.166667\n",
      "29999     38479.000000\n",
      "Length: 30000, dtype: float64\n"
     ]
    }
   ],
   "source": [
    "#Is the bill increasing in general? \n",
    "#calculate the mean of the billings and then graph it \n",
    "meanbill = ((credit.CurBill_April +\n",
    "            credit.CurBill_May +\n",
    "            credit.CurBill_June +\n",
    "            credit.CurBill_July +\n",
    "            credit.CurBill_Aug +\n",
    "            credit.CurBill_Sept)/6)\n",
    "print(meanbill)"
   ]
  },
  {
   "cell_type": "markdown",
   "metadata": {},
   "source": [
    "# Saving as CSV file "
   ]
  },
  {
   "cell_type": "code",
   "execution_count": 18,
   "metadata": {},
   "outputs": [],
   "source": [
    "credit.to_csv(r'C:\\\\Users\\\\User\\\\Desktop\\\\BSSA\\\\Module5\\\\ExploratoryAnalysis.csv')"
   ]
  }
 ],
 "metadata": {
  "kernelspec": {
   "display_name": "Python 3",
   "language": "python",
   "name": "python3"
  },
  "language_info": {
   "codemirror_mode": {
    "name": "ipython",
    "version": 3
   },
   "file_extension": ".py",
   "mimetype": "text/x-python",
   "name": "python",
   "nbconvert_exporter": "python",
   "pygments_lexer": "ipython3",
   "version": "3.7.0"
  }
 },
 "nbformat": 4,
 "nbformat_minor": 2
}
