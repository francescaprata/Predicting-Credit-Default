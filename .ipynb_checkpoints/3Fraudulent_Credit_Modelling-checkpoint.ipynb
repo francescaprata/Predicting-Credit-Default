{
 "cells": [
  {
   "cell_type": "markdown",
   "metadata": {},
   "source": [
    "# Importing libraries"
   ]
  },
  {
   "cell_type": "code",
   "execution_count": 2,
   "metadata": {},
   "outputs": [
    {
     "ename": "ModuleNotFoundError",
     "evalue": "No module named 'imblearn'",
     "output_type": "error",
     "traceback": [
      "\u001b[1;31m---------------------------------------------------------------------------\u001b[0m",
      "\u001b[1;31mModuleNotFoundError\u001b[0m                       Traceback (most recent call last)",
      "\u001b[1;32m<ipython-input-2-ae907a197af4>\u001b[0m in \u001b[0;36m<module>\u001b[1;34m()\u001b[0m\n\u001b[0;32m      7\u001b[0m \u001b[1;32mimport\u001b[0m \u001b[0mrandom\u001b[0m\u001b[1;33m\u001b[0m\u001b[0m\n\u001b[0;32m      8\u001b[0m \u001b[1;32mimport\u001b[0m \u001b[0msklearn\u001b[0m\u001b[1;33m\u001b[0m\u001b[0m\n\u001b[1;32m----> 9\u001b[1;33m \u001b[1;32mimport\u001b[0m \u001b[0mimblearn\u001b[0m\u001b[1;33m.\u001b[0m\u001b[0mover_sampling\u001b[0m\u001b[1;33m\u001b[0m\u001b[0m\n\u001b[0m\u001b[0;32m     10\u001b[0m \u001b[1;32mfrom\u001b[0m \u001b[0mimblearn\u001b[0m\u001b[1;33m.\u001b[0m\u001b[0mover_sampling\u001b[0m \u001b[1;32mimport\u001b[0m \u001b[0mSMOTE\u001b[0m\u001b[1;33m\u001b[0m\u001b[0m\n",
      "\u001b[1;31mModuleNotFoundError\u001b[0m: No module named 'imblearn'"
     ]
    }
   ],
   "source": [
    "#Importing libraries\n",
    "import numpy as np\n",
    "import pandas as pd\n",
    "import scipy\n",
    "from math import sqrt\n",
    "import matplotlib.pyplot as plt\n",
    "import random \n",
    "import sklearn \n",
    "import imblearn.over_sampling\n",
    "from imblearn.over_sampling import SMOTE"
   ]
  },
  {
   "cell_type": "code",
   "execution_count": 25,
   "metadata": {},
   "outputs": [],
   "source": [
    "#Suppressing warnings \n",
    "import warnings\n",
    "warnings.simplefilter(action='ignore', category=FutureWarning)"
   ]
  },
  {
   "cell_type": "markdown",
   "metadata": {},
   "source": [
    "# Importing the dataset"
   ]
  },
  {
   "cell_type": "code",
   "execution_count": 49,
   "metadata": {},
   "outputs": [],
   "source": [
    "credit = pd.read_csv('Preprocess2.csv', header=0)"
   ]
  },
  {
   "cell_type": "code",
   "execution_count": 4,
   "metadata": {},
   "outputs": [
    {
     "name": "stdout",
     "output_type": "stream",
     "text": [
      "<class 'pandas.core.frame.DataFrame'>\n",
      "RangeIndex: 29466 entries, 0 to 29465\n",
      "Data columns (total 9 columns):\n",
      "Unnamed: 0      29466 non-null int64\n",
      "MeanBill        29466 non-null float64\n",
      "MeanPaid        29466 non-null float64\n",
      "CurBill_Sept    29466 non-null int64\n",
      "Risky           29466 non-null object\n",
      "CREDIT_RATIO    29466 non-null float64\n",
      "AGE             29466 non-null int64\n",
      "EDUCATION       29466 non-null object\n",
      "DEFAULT         29466 non-null object\n",
      "dtypes: float64(3), int64(3), object(3)\n",
      "memory usage: 2.0+ MB\n"
     ]
    }
   ],
   "source": [
    "credit.info() "
   ]
  },
  {
   "cell_type": "code",
   "execution_count": 50,
   "metadata": {},
   "outputs": [],
   "source": [
    "#convert all categories into numerical variables so they can be properly used to model with\n",
    "credit.EDUCATION = pd.CategoricalIndex(credit.EDUCATION)\n",
    "credit.Risky = pd.CategoricalIndex(credit.Risky)\n",
    "\n",
    "credit['EDUCATION'] = credit.EDUCATION.cat.codes\n",
    "credit['Risky'] = credit.Risky.cat.codes"
   ]
  },
  {
   "cell_type": "code",
   "execution_count": 51,
   "metadata": {},
   "outputs": [
    {
     "data": {
      "text/html": [
       "<div>\n",
       "<style scoped>\n",
       "    .dataframe tbody tr th:only-of-type {\n",
       "        vertical-align: middle;\n",
       "    }\n",
       "\n",
       "    .dataframe tbody tr th {\n",
       "        vertical-align: top;\n",
       "    }\n",
       "\n",
       "    .dataframe thead th {\n",
       "        text-align: right;\n",
       "    }\n",
       "</style>\n",
       "<table border=\"1\" class=\"dataframe\">\n",
       "  <thead>\n",
       "    <tr style=\"text-align: right;\">\n",
       "      <th></th>\n",
       "      <th>MeanBill</th>\n",
       "      <th>MeanPaid</th>\n",
       "      <th>CurBill_Sept</th>\n",
       "      <th>Risky</th>\n",
       "      <th>CREDIT_RATIO</th>\n",
       "      <th>AGE</th>\n",
       "      <th>EDUCATION</th>\n",
       "    </tr>\n",
       "  </thead>\n",
       "  <tbody>\n",
       "    <tr>\n",
       "      <th>0</th>\n",
       "      <td>1284.000000</td>\n",
       "      <td>-0.333333</td>\n",
       "      <td>3913</td>\n",
       "      <td>1</td>\n",
       "      <td>0.155100</td>\n",
       "      <td>24</td>\n",
       "      <td>5</td>\n",
       "    </tr>\n",
       "    <tr>\n",
       "      <th>1</th>\n",
       "      <td>2846.166667</td>\n",
       "      <td>0.500000</td>\n",
       "      <td>2682</td>\n",
       "      <td>1</td>\n",
       "      <td>0.014375</td>\n",
       "      <td>26</td>\n",
       "      <td>5</td>\n",
       "    </tr>\n",
       "    <tr>\n",
       "      <th>2</th>\n",
       "      <td>16942.166667</td>\n",
       "      <td>0.000000</td>\n",
       "      <td>29239</td>\n",
       "      <td>0</td>\n",
       "      <td>0.155856</td>\n",
       "      <td>34</td>\n",
       "      <td>5</td>\n",
       "    </tr>\n",
       "    <tr>\n",
       "      <th>3</th>\n",
       "      <td>38555.666667</td>\n",
       "      <td>0.000000</td>\n",
       "      <td>46990</td>\n",
       "      <td>0</td>\n",
       "      <td>0.964660</td>\n",
       "      <td>37</td>\n",
       "      <td>5</td>\n",
       "    </tr>\n",
       "    <tr>\n",
       "      <th>4</th>\n",
       "      <td>18223.166667</td>\n",
       "      <td>-0.333333</td>\n",
       "      <td>8617</td>\n",
       "      <td>0</td>\n",
       "      <td>0.113400</td>\n",
       "      <td>57</td>\n",
       "      <td>5</td>\n",
       "    </tr>\n",
       "  </tbody>\n",
       "</table>\n",
       "</div>"
      ],
      "text/plain": [
       "       MeanBill  MeanPaid  CurBill_Sept  Risky  CREDIT_RATIO  AGE  EDUCATION\n",
       "0   1284.000000 -0.333333          3913      1      0.155100   24          5\n",
       "1   2846.166667  0.500000          2682      1      0.014375   26          5\n",
       "2  16942.166667  0.000000         29239      0      0.155856   34          5\n",
       "3  38555.666667  0.000000         46990      0      0.964660   37          5\n",
       "4  18223.166667 -0.333333          8617      0      0.113400   57          5"
      ]
     },
     "execution_count": 51,
     "metadata": {},
     "output_type": "execute_result"
    }
   ],
   "source": [
    "#Selecting the independent variables\n",
    "credit_indep = credit.iloc[:, 1:8]\n",
    "credit_indep.head()"
   ]
  },
  {
   "cell_type": "code",
   "execution_count": 52,
   "metadata": {},
   "outputs": [
    {
     "data": {
      "text/plain": [
       "0    defaulted\n",
       "1    defaulted\n",
       "2         paid\n",
       "3         paid\n",
       "4         paid\n",
       "Name: DEFAULT, dtype: object"
      ]
     },
     "execution_count": 52,
     "metadata": {},
     "output_type": "execute_result"
    }
   ],
   "source": [
    "#Selecting the dependent variable\n",
    "credit_dep = credit['DEFAULT']\n",
    "credit_dep.head()"
   ]
  },
  {
   "cell_type": "markdown",
   "metadata": {},
   "source": [
    "# Importing models and model metrics "
   ]
  },
  {
   "cell_type": "code",
   "execution_count": 82,
   "metadata": {},
   "outputs": [],
   "source": [
    "from sklearn.ensemble import RandomForestClassifier\n",
    "from sklearn.svm import SVC\n",
    "from sklearn.neighbors import KNeighborsClassifier\n",
    "from sklearn.metrics import accuracy_score, cohen_kappa_score, confusion_matrix, classification_report\n",
    "from sklearn.model_selection import cross_val_score, cross_val_predict, train_test_split\n",
    "from sklearn import preprocessing"
   ]
  },
  {
   "cell_type": "markdown",
   "metadata": {},
   "source": [
    "# Creating training set and standardizing"
   ]
  },
  {
   "cell_type": "code",
   "execution_count": 54,
   "metadata": {},
   "outputs": [
    {
     "name": "stdout",
     "output_type": "stream",
     "text": [
      "(14733, 7) (14733,)\n",
      "(14733, 7) (14733,)\n"
     ]
    }
   ],
   "source": [
    "#Setting seed and creating training set\n",
    "random.seed(123)\n",
    "x_train, x_test, y_train, y_test = train_test_split(credit_indep, credit_dep, test_size = 0.5)\n",
    "print(x_train.shape, y_train.shape)\n",
    "print(x_test.shape, y_test.shape)"
   ]
  },
  {
   "cell_type": "code",
   "execution_count": null,
   "metadata": {},
   "outputs": [],
   "source": [
    "# balance the trainingdata\n",
    "smote = SMOTE(random_state = 4)\n",
    "X_sm, y_sm = smote.fit_sample(X_train, y_train)\n",
    "\n",
    "print(X_sm.shape, y_sm.shape)"
   ]
  },
  {
   "cell_type": "code",
   "execution_count": 55,
   "metadata": {},
   "outputs": [
    {
     "name": "stderr",
     "output_type": "stream",
     "text": [
      "C:\\Users\\User\\Anaconda3\\lib\\site-packages\\sklearn\\preprocessing\\data.py:645: DataConversionWarning: Data with input dtype int8, int64, float64 were all converted to float64 by StandardScaler.\n",
      "  return self.partial_fit(X, y)\n",
      "C:\\Users\\User\\Anaconda3\\lib\\site-packages\\sklearn\\base.py:464: DataConversionWarning: Data with input dtype int8, int64, float64 were all converted to float64 by StandardScaler.\n",
      "  return self.fit(X, **fit_params).transform(X)\n"
     ]
    }
   ],
   "source": [
    "#Standardizing\n",
    "names = credit_indep.columns\n",
    "scaler = preprocessing.StandardScaler()\n",
    "scaled_credit = scaler.fit_transform(credit_indep)\n",
    "scaled_credit = pd.DataFrame(scaled_credit, columns=names)"
   ]
  },
  {
   "cell_type": "markdown",
   "metadata": {},
   "source": [
    "# Support Vector Machine"
   ]
  },
  {
   "cell_type": "code",
   "execution_count": 77,
   "metadata": {},
   "outputs": [
    {
     "name": "stdout",
     "output_type": "stream",
     "text": [
      "Accuracy SVM is:0.798\n",
      "Kappa SVM is:0.012\n"
     ]
    }
   ],
   "source": [
    "#Running SVM on training data\n",
    "random.seed(123)\n",
    "modelSVM = SVC()  \n",
    "modelSVM.fit(x_train, y_train) \n",
    "pred_svm = cross_val_predict(modelSVM, x_train, y_train, cv = 5)\n",
    "print('Accuracy SVM is:%.3f' % accuracy_score(y_train, pred_svm))\n",
    "print('Kappa SVM is:%.3f' % cohen_kappa_score(y_train, pred_svm))"
   ]
  },
  {
   "cell_type": "markdown",
   "metadata": {},
   "source": [
    "# Random Forest"
   ]
  },
  {
   "cell_type": "code",
   "execution_count": 73,
   "metadata": {},
   "outputs": [
    {
     "name": "stdout",
     "output_type": "stream",
     "text": [
      "Accuracy RF is:0.796\n",
      "Kappa RF is:0.308\n"
     ]
    }
   ],
   "source": [
    "#Running Random Forest on training data\n",
    "random.seed(123)\n",
    "modelRF = RandomForestClassifier()\n",
    "modelRF.fit(x_train, y_train) \n",
    "pred_rf = cross_val_predict(modelRF, x_train, y_train, cv = 5)\n",
    "print('Accuracy RF is:%.3f' % accuracy_score(y_train, pred_rf))\n",
    "print('Kappa RF is:%.3f' % cohen_kappa_score(y_train, pred_rf))"
   ]
  },
  {
   "cell_type": "markdown",
   "metadata": {},
   "source": [
    "# KNN"
   ]
  },
  {
   "cell_type": "code",
   "execution_count": 74,
   "metadata": {},
   "outputs": [
    {
     "name": "stdout",
     "output_type": "stream",
     "text": [
      "Accuracy KNN is:0.764\n",
      "Kappa KNN is:0.066\n"
     ]
    }
   ],
   "source": [
    "#Running KNN on training data\n",
    "random.seed(123)\n",
    "modelKNN = KNeighborsClassifier()\n",
    "modelKNN.fit(x_train, y_train) \n",
    "pred_knn = cross_val_predict(modelKNN, x_train, y_train, cv = 5)\n",
    "print('Accuracy KNN is:%.3f' % accuracy_score(y_train, pred_knn))\n",
    "print('Kappa KNN is:%.3f' % cohen_kappa_score(y_train, pred_knn))"
   ]
  },
  {
   "cell_type": "markdown",
   "metadata": {},
   "source": [
    "# Making predictions"
   ]
  },
  {
   "cell_type": "markdown",
   "metadata": {},
   "source": [
    "As Random Forest was the model that had the highest score, we will focus on making predictions with it"
   ]
  },
  {
   "cell_type": "code",
   "execution_count": 83,
   "metadata": {},
   "outputs": [
    {
     "name": "stdout",
     "output_type": "stream",
     "text": [
      "Accuracy is: 0.792\n",
      "Kappa is: 0.316\n",
      "[[ 1214  1899]\n",
      " [ 1172 10448]]\n",
      "              precision    recall  f1-score   support\n",
      "\n",
      "   defaulted       0.51      0.39      0.44      3113\n",
      "        paid       0.85      0.90      0.87     11620\n",
      "\n",
      "   micro avg       0.79      0.79      0.79     14733\n",
      "   macro avg       0.68      0.64      0.66     14733\n",
      "weighted avg       0.77      0.79      0.78     14733\n",
      "\n"
     ]
    }
   ],
   "source": [
    "predictionsRF = modelRF.predict(x_test)\n",
    "print('Accuracy is: %.3f' % accuracy_score(y_test, predictionsRF))\n",
    "print('Kappa is: %.3f' % cohen_kappa_score(y_test, predictionsRF))\n",
    "print(confusion_matrix(y_test, predictionsRF))\n",
    "print(classification_report(y_test, predictionsRF))"
   ]
  },
  {
   "cell_type": "code",
   "execution_count": 84,
   "metadata": {},
   "outputs": [
    {
     "name": "stdout",
     "output_type": "stream",
     "text": [
      "Accuracy: 0.789\n",
      "Kappa: 0.010\n",
      "[[   25  3088]\n",
      " [   18 11602]]\n",
      "              precision    recall  f1-score   support\n",
      "\n",
      "   defaulted       0.58      0.01      0.02      3113\n",
      "        paid       0.79      1.00      0.88     11620\n",
      "\n",
      "   micro avg       0.79      0.79      0.79     14733\n",
      "   macro avg       0.69      0.50      0.45     14733\n",
      "weighted avg       0.75      0.79      0.70     14733\n",
      "\n"
     ]
    }
   ],
   "source": [
    "predictionsSVM = modelSVM.predict(x_test)\n",
    "print('Accuracy: %.3f' % accuracy_score(y_test, predictionsSVM))\n",
    "print('Kappa: %.3f' % cohen_kappa_score(y_test, predictionsSVM))\n",
    "print(confusion_matrix(y_test, predictionsSVM))\n",
    "print(classification_report(y_test, predictionsSVM))"
   ]
  },
  {
   "cell_type": "code",
   "execution_count": 87,
   "metadata": {},
   "outputs": [
    {
     "name": "stdout",
     "output_type": "stream",
     "text": [
      "Accuracy: 0.761\n",
      "Kappa: 0.071\n",
      "[[  383  2730]\n",
      " [  790 10830]]\n",
      "              precision    recall  f1-score   support\n",
      "\n",
      "   defaulted       0.33      0.12      0.18      3113\n",
      "        paid       0.80      0.93      0.86     11620\n",
      "\n",
      "   micro avg       0.76      0.76      0.76     14733\n",
      "   macro avg       0.56      0.53      0.52     14733\n",
      "weighted avg       0.70      0.76      0.72     14733\n",
      "\n"
     ]
    }
   ],
   "source": [
    "predictionsKNN = modelKNN.predict(x_test)\n",
    "print('Accuracy: %.3f' % accuracy_score(y_test, predictionsKNN))\n",
    "print('Kappa: %.3f' % cohen_kappa_score(y_test, predictionsKNN))\n",
    "print(confusion_matrix(y_test, predictionsKNN))\n",
    "print(classification_report(y_test, predictionsKNN))"
   ]
  }
 ],
 "metadata": {
  "kernelspec": {
   "display_name": "Python 3",
   "language": "python",
   "name": "python3"
  },
  "language_info": {
   "codemirror_mode": {
    "name": "ipython",
    "version": 3
   },
   "file_extension": ".py",
   "mimetype": "text/x-python",
   "name": "python",
   "nbconvert_exporter": "python",
   "pygments_lexer": "ipython3",
   "version": "3.7.0"
  }
 },
 "nbformat": 4,
 "nbformat_minor": 2
}
